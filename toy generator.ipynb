{
 "cells": [
  {
   "cell_type": "code",
   "execution_count": 11,
   "metadata": {},
   "outputs": [],
   "source": [
    "from generator import *"
   ]
  },
  {
   "cell_type": "code",
   "execution_count": 12,
   "metadata": {},
   "outputs": [
    {
     "name": "stdout",
     "output_type": "stream",
     "text": [
      "0\n"
     ]
    },
    {
     "data": {
      "text/plain": [
       "[0,\n",
       " 0,\n",
       " 0,\n",
       " 1,\n",
       " 0,\n",
       " 0,\n",
       " 0,\n",
       " 0,\n",
       " 1,\n",
       " 0,\n",
       " 0,\n",
       " 0,\n",
       " 1,\n",
       " 0,\n",
       " 0,\n",
       " 0,\n",
       " 0,\n",
       " 0,\n",
       " 1,\n",
       " 0,\n",
       " 0,\n",
       " 1,\n",
       " 1,\n",
       " 0,\n",
       " 0,\n",
       " 0,\n",
       " 0,\n",
       " 0,\n",
       " 0,\n",
       " 0,\n",
       " 0,\n",
       " 0,\n",
       " 0,\n",
       " 1,\n",
       " 0,\n",
       " 0,\n",
       " 0,\n",
       " 0,\n",
       " 1,\n",
       " 0,\n",
       " 0,\n",
       " 1,\n",
       " 0,\n",
       " 0,\n",
       " 0,\n",
       " 0,\n",
       " 0,\n",
       " 0,\n",
       " 0,\n",
       " 0,\n",
       " 0,\n",
       " 0,\n",
       " 1,\n",
       " 1,\n",
       " 0,\n",
       " 0,\n",
       " 0,\n",
       " 0,\n",
       " 0,\n",
       " 0,\n",
       " 0,\n",
       " 0,\n",
       " 0,\n",
       " 1,\n",
       " 0,\n",
       " 0,\n",
       " 1,\n",
       " 0,\n",
       " 1,\n",
       " 0,\n",
       " 0,\n",
       " 0,\n",
       " 0,\n",
       " 0,\n",
       " 0,\n",
       " 0,\n",
       " 0,\n",
       " 0,\n",
       " 1,\n",
       " 0,\n",
       " 0]"
      ]
     },
     "execution_count": 12,
     "metadata": {},
     "output_type": "execute_result"
    }
   ],
   "source": [
    "A = LFSR(np.array([1, 1]), np.array([1, 1]))\n",
    "B = LFSR(np.array([0, 1, 0]), np.array([1, 1, 0]))\n",
    "C = LFSR(np.array([0, 1, 0, 1]), np.array([1, 0, 0, 1]))\n",
    "D = LFSR(np.array([1, 1, 0, 1, 0, 1, 0]), np.array([1, 0, 1, 0, 0, 1, 1]))\n",
    "projection_matrix = np.array([[1, 0, 0, 0], \n",
    "                              [0, 0, 0, 0],\n",
    "                              [0, 0, 0, 0],\n",
    "                              [0, 1, 0, 0],\n",
    "                              [0, 0, 0, 0],\n",
    "                              [0, 0, 0, 0],\n",
    "                              [0, 0, 0, 0],\n",
    "                              [0, 0, 0, 0],\n",
    "                              [0, 0, 1, 0],\n",
    "                              [0, 0, 0, 0],\n",
    "                              [0, 0, 0, 0],\n",
    "                              [0, 0, 0, 0],\n",
    "                              [0, 0, 0, 0],\n",
    "                              [0, 0, 0, 0],\n",
    "                              [0, 0, 0, 1],\n",
    "                              [0, 0, 0, 0]])\n",
    "combiner = LMcombiner([A, B, C, D], projection_matrix, lambda at, bt, ct, dt: at * dt + bt * ct + ct * dt + at * bt)\n",
    "\n",
    "keystream = []\n",
    "print(combiner.calculate_output())\n",
    "keystream.append(combiner.calculate_output())\n",
    "for i in range(80):\n",
    "    keystream.append(combiner.next())\n",
    "keystream"
   ]
  },
  {
   "cell_type": "code",
   "execution_count": 13,
   "metadata": {},
   "outputs": [
    {
     "ename": "TypeError",
     "evalue": "SymLMcombiner.get_monomials() takes 2 positional arguments but 3 were given",
     "output_type": "error",
     "traceback": [
      "\u001b[1;31m---------------------------------------------------------------------------\u001b[0m",
      "\u001b[1;31mTypeError\u001b[0m                                 Traceback (most recent call last)",
      "Cell \u001b[1;32mIn[13], line 6\u001b[0m\n\u001b[0;32m      4\u001b[0m C \u001b[39m=\u001b[39m LFSR(np\u001b[39m.\u001b[39marray(key_symbols[\u001b[39m5\u001b[39m:\u001b[39m9\u001b[39m]), np\u001b[39m.\u001b[39marray([\u001b[39m1\u001b[39m, \u001b[39m0\u001b[39m, \u001b[39m0\u001b[39m, \u001b[39m1\u001b[39m]))\n\u001b[0;32m      5\u001b[0m D \u001b[39m=\u001b[39m LFSR(np\u001b[39m.\u001b[39marray(key_symbols[\u001b[39m9\u001b[39m:]), np\u001b[39m.\u001b[39marray([\u001b[39m1\u001b[39m, \u001b[39m0\u001b[39m, \u001b[39m1\u001b[39m, \u001b[39m0\u001b[39m, \u001b[39m0\u001b[39m, \u001b[39m1\u001b[39m, \u001b[39m1\u001b[39m]))\n\u001b[1;32m----> 6\u001b[0m combiner \u001b[39m=\u001b[39m SymLMcombiner([A, B, C, D], projection_matrix, \u001b[39mlambda\u001b[39;49;00m at, bt, ct, dt: at \u001b[39m*\u001b[39;49m dt \u001b[39m+\u001b[39;49m bt \u001b[39m*\u001b[39;49m ct \u001b[39m+\u001b[39;49m ct \u001b[39m*\u001b[39;49m dt \u001b[39m+\u001b[39;49m at \u001b[39m*\u001b[39;49m bt)\n\u001b[0;32m      8\u001b[0m sys \u001b[39m=\u001b[39m []\n\u001b[0;32m     10\u001b[0m symbols \u001b[39m=\u001b[39m combiner\u001b[39m.\u001b[39mcalculate_output()\u001b[39m.\u001b[39mfree_symbols\n",
      "File \u001b[1;32md:\\YandexDisk\\Курсовая работа 3 курс\\generator.py:50\u001b[0m, in \u001b[0;36mSymLMcombiner.__init__\u001b[1;34m(self, LFSRs, projection_matrix, output_function)\u001b[0m\n\u001b[0;32m     48\u001b[0m \u001b[39mself\u001b[39m\u001b[39m.\u001b[39mprojection_matrix \u001b[39m=\u001b[39m projection_matrix\n\u001b[0;32m     49\u001b[0m \u001b[39mself\u001b[39m\u001b[39m.\u001b[39moutput_function \u001b[39m=\u001b[39m output_function\n\u001b[1;32m---> 50\u001b[0m \u001b[39mself\u001b[39m\u001b[39m.\u001b[39mmonomials \u001b[39m=\u001b[39m \u001b[39mself\u001b[39;49m\u001b[39m.\u001b[39;49mget_monomials(\u001b[39mself\u001b[39;49m\u001b[39m.\u001b[39;49mstate, \u001b[39m2\u001b[39;49m)\n",
      "\u001b[1;31mTypeError\u001b[0m: SymLMcombiner.get_monomials() takes 2 positional arguments but 3 were given"
     ]
    }
   ],
   "source": [
    "key_symbols = sp.symbols(\"a:16\")\n",
    "A = LFSR(np.array(key_symbols[:2]), np.array([1, 1]))\n",
    "B = LFSR(np.array(key_symbols[2:5]), np.array([1, 1, 0]))\n",
    "C = LFSR(np.array(key_symbols[5:9]), np.array([1, 0, 0, 1]))\n",
    "D = LFSR(np.array(key_symbols[9:]), np.array([1, 0, 1, 0, 0, 1, 1]))\n",
    "combiner = SymLMcombiner([A, B, C, D], projection_matrix, lambda at, bt, ct, dt: at * dt + bt * ct + ct * dt + at * bt)\n",
    "\n",
    "sys = []\n",
    "\n",
    "symbols = combiner.calculate_output().free_symbols\n",
    "sys.append(sp.Eq(combiner.calculate_output(), keystream[0]))\n",
    "for i in range(1, 80):\n",
    "    poly = combiner.next()\n",
    "    symbols |= poly.free_symbols\n",
    "    sys.append(sp.Eq(poly, keystream[i]))\n",
    "symbols = list(symbols)\n"
   ]
  },
  {
   "cell_type": "code",
   "execution_count": null,
   "metadata": {},
   "outputs": [
    {
     "data": {
      "text/latex": [
       "$\\displaystyle \\left\\{\\left( 1, \\  1, \\  0, \\  1, \\  0, \\  0, \\  1, \\  0, \\  1, \\  1, \\  1, \\  0, \\  1, \\  0, \\  1, \\  0\\right)\\right\\}$"
      ],
      "text/plain": [
       "{(1, 1, 0, 1, 0, 0, 1, 0, 1, 1, 1, 0, 1, 0, 1, 0)}"
      ]
     },
     "execution_count": 140,
     "metadata": {},
     "output_type": "execute_result"
    }
   ],
   "source": [
    "sys_matrices = sp.linear_eq_to_matrix(sys, symbols)\n",
    "F_2 = sp.GF(2)\n",
    "a = sp.polys.matrices.domainmatrix.DomainMatrix.from_Matrix(sys_matrices[0]).convert_to(F_2)\n",
    "b = sp.polys.matrices.domainmatrix.DomainMatrix.from_Matrix(sys_matrices[1]).convert_to(F_2)\n",
    "solution = a.lu_solve(b).to_Matrix()\n",
    "\n",
    "sym_values = {symbols[i]: solution[i] for i in range(len(symbols))}\n",
    "sym_dict = {v: k for k, v in combiner.monomials.items()} | {sym.name: sym for sym in key_symbols}\n",
    "new_sys = [sp.Eq(sym_dict[sym.name], value) for sym, value in sym_values.items()]\n",
    "new_sys2 = []\n",
    "\n",
    "for equation in new_sys:\n",
    "    if (equation.rhs):\n",
    "        for sym in equation.lhs.free_symbols:\n",
    "            if (sp.Eq(sym, 1) not in new_sys2):\n",
    "                new_sys2.append(sp.Eq(sym, 1))\n",
    "    else:\n",
    "        new_sys2.append(equation)\n",
    "sp.nonlinsolve(new_sys2, key_symbols)"
   ]
  }
 ],
 "metadata": {
  "kernelspec": {
   "display_name": "Python 3",
   "language": "python",
   "name": "python3"
  },
  "language_info": {
   "codemirror_mode": {
    "name": "ipython",
    "version": 3
   },
   "file_extension": ".py",
   "mimetype": "text/x-python",
   "name": "python",
   "nbconvert_exporter": "python",
   "pygments_lexer": "ipython3",
   "version": "3.11.2"
  },
  "orig_nbformat": 4,
  "vscode": {
   "interpreter": {
    "hash": "59deec7f17f2e8a50e2a0a434509225e228093617e5abf16faa76904b53ada5b"
   }
  }
 },
 "nbformat": 4,
 "nbformat_minor": 2
}
